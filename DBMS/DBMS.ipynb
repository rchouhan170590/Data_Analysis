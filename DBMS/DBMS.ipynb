{
 "cells": [
  {
   "cell_type": "code",
   "execution_count": 1,
   "metadata": {},
   "outputs": [],
   "source": [
    "import sqlite3\n",
    "from sqlite3 import Error"
   ]
  },
  {
   "cell_type": "code",
   "execution_count": 3,
   "metadata": {},
   "outputs": [
    {
     "name": "stdout",
     "output_type": "stream",
     "text": [
      "unable to open database file\n"
     ]
    }
   ],
   "source": [
    "def create_connection(db_file):\n",
    "    \"\"\" create a database connection to a SQLite database \"\"\"\n",
    "    conn = None\n",
    "    try:\n",
    "        conn = sqlite3.connect(db_file)\n",
    "        print(sqlite3.version)\n",
    "    except Error as e:\n",
    "        print(e)\n",
    "    finally:\n",
    "        if conn:\n",
    "            conn.close()\n",
    " \n",
    " \n",
    "if __name__ == '__main__':\n",
    "    create_connection(r\"E:\\sqlite\\db\\pythonsqlite.db\")"
   ]
  },
  {
   "cell_type": "code",
   "execution_count": 1,
   "metadata": {},
   "outputs": [
    {
     "name": "stdout",
     "output_type": "stream",
     "text": [
      "rohit\n"
     ]
    }
   ],
   "source": [
    "c.execute('''CREATE TABLE state_area([Scode] INTEGER PRIMARY KEY,[areaName] VARCHAR(100))''')\n",
    "c.execute('''CREATE TABLE population_stateWise([Scode] INTEGER PRIMARY KEY,[m_count] INTEGER, [f_count] integer,FOREIGN KEY (Scode) REFERENCES state_area (Scode))''')\n",
    "c.execute('''CREATE TABLE avg_val_table([age_group] VARCHAR(50) PRIMARY KEY,[avg_value] integer)''')\n",
    "c.execute('''CREATE TABLE combine_key_id([id] INTEGER PRIMARY KEY,[Scode] INTEGER, [type] VARCHAR(50),[age_group] VARCHAR(50),FOREIGN KEY (Scode) REFERENCES state_area (Scode))''')\n",
    "c.execute('''CREATE TABLE populatoin_grp_by_age([id] INTEGER PRIMARY KEY,[m_count] INTEGER, [f_count] integer,FOREIGN KEY (id) REFERENCES combine_key_id (id))''')\n",
    "c.execute('''CREATE TABLE illiterate_grp_by_age([id] INTEGER PRIMARY KEY,[m_count] INTEGER, [f_count] integer,FOREIGN KEY (id) REFERENCES combine_key_id (id))''')\n",
    "c.execute('''CREATE TABLE literate_grp_by_age([id] INTEGER PRIMARY KEY,[m_count] INTEGER, [f_count] integer,FOREIGN KEY (id) REFERENCES combine_key_id (id))''')\n",
    "c.execute('''CREATE TABLE liter_wot_edu_grp_by_age([id] INTEGER PRIMARY KEY,[m_count] INTEGER, [f_count] integer,FOREIGN KEY (id) REFERENCES combine_key_id (id))''')\n",
    "c.execute('''CREATE TABLE below_prmry_grp_by_age([id] INTEGER PRIMARY KEY,[m_count] INTEGER, [f_count] integer,FOREIGN KEY (id) REFERENCES combine_key_id (id))''')\n",
    "c.execute('''CREATE TABLE primary_grp_by_age([id] INTEGER PRIMARY KEY,[m_count] INTEGER, [f_count] integer,FOREIGN KEY (id) REFERENCES combine_key_id (id))''')\n",
    "c.execute('''CREATE TABLE middle_grp_by_age([id] INTEGER PRIMARY KEY,[m_count] INTEGER, [f_count] integer,FOREIGN KEY (id) REFERENCES combine_key_id (id))''')\n",
    "c.execute('''CREATE TABLE matrx_second_grp_by_age([id] INTEGER PRIMARY KEY,[m_count] INTEGER, [f_count] integer,FOREIGN KEY (id) REFERENCES combine_key_id (id))''')\n",
    "c.execute('''CREATE TABLE high_schl_grp_by_age([id] INTEGER PRIMARY KEY,[m_count] INTEGER, [f_count] integer,FOREIGN KEY (id) REFERENCES combine_key_id (id))''')\n",
    "c.execute('''CREATE TABLE non_tech_diplma_grp_by_age([id] INTEGER PRIMARY KEY,[m_count] INTEGER, [f_count] integer,FOREIGN KEY (id) REFERENCES combine_key_id (id))''')\n",
    "c.execute('''CREATE TABLE tech_diplma_grp_by_age([id] INTEGER PRIMARY KEY,[m_count] INTEGER, [f_count] integer,FOREIGN KEY (id) REFERENCES combine_key_id (id))''')\n",
    "c.execute('''CREATE TABLE graduate_plus_grp_by_age([id] INTEGER PRIMARY KEY,[m_count] INTEGER, [f_count] integer,FOREIGN KEY (id) REFERENCES combine_key_id (id))''')\n",
    "c.execute('''CREATE TABLE unclassified_grp_by_age([id] INTEGER PRIMARY KEY,[m_count] INTEGER, [f_count] integer,FOREIGN KEY (id) REFERENCES combine_key_id (id))''')\n",
    "c.execute('''CREATE TABLE distribution_by_educ_lvl([Scode] INTEGER,[type] varchar(100), [education_level] VARCHAR(100),[male2lang] integer,[female2lang] integer,[male3lang] integer,[female3lang] integer,PRIMARY KEY(Scode,type,education_level,FOREIGN KEY (Scode) REFERENCES state_area (Scode)))''')\n",
    "c.execute('''CREATE TABLE distribution_by_age_grp([Scode] INTEGER,[type] varchar(100), [age_grp] VARCHAR(50),[male2lang] integer,[female2lang] integer,[male3lang] integer,[female3lang] integer,PRIMARY KEY(Scode,type,age_grp),FOREIGN KEY (Scode) REFERENCES state_area (Scode))''')\n"
   ]
  },
  {
   "cell_type": "code",
   "execution_count": 531,
   "metadata": {},
   "outputs": [],
   "source": [
    "import pandas as pd \n",
    "file1 = pd.read_csv(\"age-education.csv\", header=None)\n",
    "file2 = pd.read_csv(\"multilingual-age.csv\", header=None)\n",
    "file3 = pd.read_csv(\"multilingual-education.csv\", header=None)"
   ]
  },
  {
   "cell_type": "code",
   "execution_count": 532,
   "metadata": {},
   "outputs": [],
   "source": [
    "file1 = file1.loc[7:]\n",
    "file2 = file2.loc[5:]\n",
    "file3 = file3.loc[5:]\n",
    "#print(file2)"
   ]
  },
  {
   "cell_type": "code",
   "execution_count": null,
   "metadata": {},
   "outputs": [],
   "source": []
  },
  {
   "cell_type": "code",
   "execution_count": null,
   "metadata": {},
   "outputs": [],
   "source": []
  },
  {
   "cell_type": "code",
   "execution_count": null,
   "metadata": {},
   "outputs": [],
   "source": []
  },
  {
   "cell_type": "code",
   "execution_count": 569,
   "metadata": {},
   "outputs": [],
   "source": [
    "i = 0\n",
    "columns1=['table','Scode','Dcode','areaName','type','age_grp','p_count','m_count','f_count','p_illt','m_illt','F_illt','p_lit','m_lit','f_lit','p_lit_wot_edu','m_lit_wot_edu','f_lit_wot_edu','p_below_pr','m_below_pr','f_below_pr','p_primary','m_primary','f_primary','p_middle','m_middle','f_middle','p_mtrx_sec','m_mtrx_sec','f_mtrx_sec','p_high_sec','m_high_sec', 'f_high_sec','p_nonT_diploma','m_nonT_diploma', 'f_nonT_diploma','p_T_diploma','m_T_diploma','f_T_diploma','p_grad_plus','m_grad_plus', 'f_grad_plus','p_other','m_other','f_other']\n",
    "file1_DF = pd.DataFrame(columns = columns1)\n",
    "while i<45 : \n",
    "    file1_DF[columns1[i]] = file1[i]\n",
    "    i = i+1\n",
    "\n",
    "i = 0\n",
    "columns2=['Scode','Dcode','areaName','type','age_grp','p2lang','male2lang','female2lang','p3lang','male3lang','female3lang']\n",
    "file2_DF = pd.DataFrame(columns =columns2)\n",
    "while i<11 : \n",
    "    file2_DF[columns2[i]] = file2[i]\n",
    "    i = i+1\n",
    "\n",
    "i = 0\n",
    "columns3=['Scode','Dcode','areaName','type','education_level','p2lang','male2lang','female2lang','p3lang','male3lang','female3lang']\n",
    "file3_DF = pd.DataFrame(columns =columns3)\n",
    "while i<11 : \n",
    "    file3_DF[columns3[i]] = file3[i]\n",
    "    i = i+1\n"
   ]
  },
  {
   "cell_type": "code",
   "execution_count": 570,
   "metadata": {},
   "outputs": [],
   "source": [
    "state_area = pd.DataFrame(columns = ['Scode','areaName'])\n",
    "distribution_by_educ_lvl = pd.DataFrame(columns = ['Scode','type','education_level','male2lang','female2lang','male3lang','female3lang'])\n",
    "distribution_by_age_grp = pd.DataFrame(columns = ['Scode','type','age_grp','male2lang','female2lang','male3lang','female3lang'])\n"
   ]
  },
  {
   "cell_type": "code",
   "execution_count": 571,
   "metadata": {},
   "outputs": [],
   "source": [
    "state_area['Scode'] = file2_DF['Scode']\n",
    "state_area['areaName'] = file2_DF['areaName']\n",
    "state_area = state_area.drop_duplicates()               #table1 data"
   ]
  },
  {
   "cell_type": "code",
   "execution_count": 572,
   "metadata": {},
   "outputs": [],
   "source": [
    "columns = ['Scode','type','education_level','male2lang','female2lang','male3lang','female3lang']\n",
    "for i in columns : \n",
    "    distribution_by_educ_lvl[i] = file3_DF[i]\n",
    "distribution_by_educ_lvl = distribution_by_educ_lvl[distribution_by_educ_lvl.type != 'Total']\n",
    "#distribution_by_educ_lvl = distribution_by_educ_lvl[distribution_by_educ_lvl.Scode != '00']\n",
    "distribution_by_educ_lvl = distribution_by_educ_lvl[distribution_by_educ_lvl.education_level != 'Total'] #table2 data\n",
    "\n",
    "columns = ['Scode','type','age_grp','male2lang','female2lang','male3lang','female3lang']\n",
    "for i in columns : \n",
    "    distribution_by_age_grp[i] = file2_DF[i]\n",
    "distribution_by_age_grp = distribution_by_age_grp[distribution_by_age_grp.type != 'Total']\n",
    "#distribution_by_age_grp = distribution_by_age_grp[distribution_by_age_grp.Scode != '00']\n",
    "distribution_by_age_grp = distribution_by_age_grp[distribution_by_age_grp.age_grp != 'Total'] #table3 data\n"
   ]
  },
  {
   "cell_type": "code",
   "execution_count": 573,
   "metadata": {},
   "outputs": [],
   "source": [
    "population_stateWise = pd.DataFrame(columns = ['Scode','m_count','f_count'])\n",
    "combine_key_id = pd.DataFrame(columns = ['id','Scode','type','age_group'])\n",
    "populatoin_grp_by_age = pd.DataFrame(columns = ['id','m_count','f_count'])\n",
    "illiterate_grp_by_age = pd.DataFrame(columns = ['id','m_count','f_count'])\n",
    "literate_grp_by_age =  pd.DataFrame(columns = ['id','m_count','f_count'])\n",
    "liter_wot_edu_grp_by_age = pd.DataFrame(columns = ['id','m_count','f_count'])\n",
    "below_prmry_grp_by_age = pd.DataFrame(columns = ['id','m_count','f_count'])\n",
    "primary_grp_by_age = pd.DataFrame(columns = ['id','m_count','f_count'])\n",
    "middle_grp_by_age = pd.DataFrame(columns = ['id','m_count','f_count'])\n",
    "matrx_second_grp_by_age = pd.DataFrame(columns = ['id','m_count','f_count'])\n",
    "high_schl_grp_by_age = pd.DataFrame(columns = ['id','m_count','f_count'])\n",
    "non_tech_diplma_grp_by_age = pd.DataFrame(columns = ['id','m_count','f_count'])\n",
    "tech_diplma_grp_by_age = pd.DataFrame(columns = ['id','m_count','f_count'])\n",
    "graduate_plus_grp_by_age = pd.DataFrame(columns = ['id','m_count','f_count'])\n",
    "unclassified_grp_by_age = pd.DataFrame(columns = ['id','m_count','f_count'])"
   ]
  },
  {
   "cell_type": "code",
   "execution_count": 574,
   "metadata": {},
   "outputs": [],
   "source": [
    "newFile1Data = pd.DataFrame(file1_DF)\n",
    "#newFile1Data = newFile1Data[newFile1Data.Scode != '00']\n",
    "newFile1Data = newFile1Data[newFile1Data.type != 'Total']\n",
    "newFile1Data = newFile1Data[newFile1Data.age_grp != 'All ages']"
   ]
  },
  {
   "cell_type": "code",
   "execution_count": 575,
   "metadata": {},
   "outputs": [],
   "source": [
    "x = [1]\n",
    "i = 2\n",
    "while i<=2016 :\n",
    "    x.append(i)\n",
    "    i = i+1"
   ]
  },
  {
   "cell_type": "code",
   "execution_count": 576,
   "metadata": {},
   "outputs": [],
   "source": [
    "combine_key_id['Scode'] = newFile1Data['Scode']\n",
    "combine_key_id['age_group'] = newFile1Data['age_grp']\n",
    "combine_key_id['type'] = newFile1Data['type']\n",
    "combine_key_id['id'] = x"
   ]
  },
  {
   "cell_type": "code",
   "execution_count": 577,
   "metadata": {},
   "outputs": [],
   "source": [
    "populatoin_grp_by_age['m_count'] = newFile1Data['m_count']\n",
    "populatoin_grp_by_age['f_count'] = newFile1Data['f_count']\n",
    "populatoin_grp_by_age['id'] = x"
   ]
  },
  {
   "cell_type": "code",
   "execution_count": 578,
   "metadata": {},
   "outputs": [],
   "source": [
    "illiterate_grp_by_age['m_count'] =newFile1Data['m_illt']\n",
    "illiterate_grp_by_age['f_count'] =newFile1Data['F_illt']\n",
    "illiterate_grp_by_age['id'] = x"
   ]
  },
  {
   "cell_type": "code",
   "execution_count": 579,
   "metadata": {},
   "outputs": [],
   "source": [
    "literate_grp_by_age['m_count'] =  newFile1Data['m_lit']\n",
    "literate_grp_by_age['f_count'] =  newFile1Data['f_lit']\n",
    "literate_grp_by_age['id'] = x"
   ]
  },
  {
   "cell_type": "code",
   "execution_count": 580,
   "metadata": {},
   "outputs": [],
   "source": [
    "liter_wot_edu_grp_by_age['m_count']=  newFile1Data['m_lit_wot_edu']\n",
    "liter_wot_edu_grp_by_age['f_count']=  newFile1Data['f_lit_wot_edu'] \n",
    "liter_wot_edu_grp_by_age['id'] = x"
   ]
  },
  {
   "cell_type": "code",
   "execution_count": 581,
   "metadata": {},
   "outputs": [],
   "source": [
    "below_prmry_grp_by_age['m_count'] =  newFile1Data['m_below_pr']\n",
    "below_prmry_grp_by_age['f_count'] =  newFile1Data['f_below_pr']\n",
    "below_prmry_grp_by_age['id'] = x"
   ]
  },
  {
   "cell_type": "code",
   "execution_count": 582,
   "metadata": {},
   "outputs": [],
   "source": [
    "primary_grp_by_age['m_count']=  newFile1Data['m_primary']\n",
    "primary_grp_by_age['f_count']=  newFile1Data['f_primary']\n",
    "primary_grp_by_age['id'] = x"
   ]
  },
  {
   "cell_type": "code",
   "execution_count": 583,
   "metadata": {},
   "outputs": [],
   "source": [
    "middle_grp_by_age['m_count']=  newFile1Data['m_middle']\n",
    "middle_grp_by_age['f_count']=  newFile1Data['f_middle']\n",
    "middle_grp_by_age['id'] = x"
   ]
  },
  {
   "cell_type": "code",
   "execution_count": 584,
   "metadata": {},
   "outputs": [],
   "source": [
    "matrx_second_grp_by_age['m_count']=  newFile1Data['m_mtrx_sec']\n",
    "matrx_second_grp_by_age['f_count']=  newFile1Data['f_mtrx_sec']\n",
    "matrx_second_grp_by_age['id'] = x"
   ]
  },
  {
   "cell_type": "code",
   "execution_count": 585,
   "metadata": {},
   "outputs": [],
   "source": [
    "high_schl_grp_by_age['m_count']=  newFile1Data['m_high_sec']\n",
    "high_schl_grp_by_age['f_count']=  newFile1Data['f_high_sec']\n",
    "high_schl_grp_by_age['id'] = x"
   ]
  },
  {
   "cell_type": "code",
   "execution_count": 586,
   "metadata": {},
   "outputs": [],
   "source": [
    "non_tech_diplma_grp_by_age['m_count']=  newFile1Data['m_nonT_diploma']\n",
    "non_tech_diplma_grp_by_age['f_count']=  newFile1Data['f_nonT_diploma']\n",
    "non_tech_diplma_grp_by_age['id'] = x"
   ]
  },
  {
   "cell_type": "code",
   "execution_count": 587,
   "metadata": {},
   "outputs": [],
   "source": [
    "tech_diplma_grp_by_age['m_count']=  newFile1Data['m_T_diploma']\n",
    "tech_diplma_grp_by_age['f_count']=  newFile1Data['f_T_diploma']\n",
    "tech_diplma_grp_by_age['id'] = x"
   ]
  },
  {
   "cell_type": "code",
   "execution_count": 588,
   "metadata": {},
   "outputs": [],
   "source": [
    "graduate_plus_grp_by_age['m_count']=  newFile1Data['m_grad_plus']\n",
    "graduate_plus_grp_by_age['f_count']=  newFile1Data['f_grad_plus']\n",
    "graduate_plus_grp_by_age['id'] = x"
   ]
  },
  {
   "cell_type": "code",
   "execution_count": 589,
   "metadata": {},
   "outputs": [],
   "source": [
    "unclassified_grp_by_age['m_count']=  newFile1Data['m_other']\n",
    "unclassified_grp_by_age['f_count']=  newFile1Data['f_other']\n",
    "unclassified_grp_by_age['id'] = x"
   ]
  },
  {
   "cell_type": "code",
   "execution_count": null,
   "metadata": {},
   "outputs": [],
   "source": []
  },
  {
   "cell_type": "code",
   "execution_count": 590,
   "metadata": {},
   "outputs": [],
   "source": [
    "tempData = pd.DataFrame(file1_DF)\n",
    "tempData = tempData[tempData.age_grp == \"All ages\"]\n",
    "tempData = tempData[tempData.type == \"Total\"]\n",
    "tempData = tempData[tempData.Scode != '00']"
   ]
  },
  {
   "cell_type": "code",
   "execution_count": 591,
   "metadata": {},
   "outputs": [],
   "source": [
    "population_stateWise['m_count'] = tempData['m_count']\n",
    "population_stateWise['f_count'] = tempData['f_count']\n",
    "population_stateWise['Scode'] = tempData['Scode']"
   ]
  },
  {
   "cell_type": "code",
   "execution_count": 592,
   "metadata": {},
   "outputs": [],
   "source": [
    "data = [['0-6',3],['7',7],['8',8],['9',9],['10',10],['11',11],['12',12],['13',13],['14',14],['15',15],['16',16],['17',17],['18',18],['19',19],['20-24',22],['25-29',27],\n",
    "        ['30-34',32],['35-39',37],['40-44',42],['45-49',47],['50-54',52],['55-59',57],['60-64',62],['65-69',67],['70-74',72]\n",
    "       ,['75-79',77],['80+',85]]\n",
    "avg_val_table = pd.DataFrame(data,columns = ['age_group','avg_value'])"
   ]
  },
  {
   "cell_type": "code",
   "execution_count": 593,
   "metadata": {},
   "outputs": [],
   "source": [
    "#tempData"
   ]
  },
  {
   "cell_type": "code",
   "execution_count": null,
   "metadata": {},
   "outputs": [],
   "source": []
  },
  {
   "cell_type": "code",
   "execution_count": null,
   "metadata": {},
   "outputs": [],
   "source": []
  },
  {
   "cell_type": "code",
   "execution_count": null,
   "metadata": {},
   "outputs": [],
   "source": []
  },
  {
   "cell_type": "code",
   "execution_count": null,
   "metadata": {},
   "outputs": [],
   "source": []
  },
  {
   "cell_type": "code",
   "execution_count": null,
   "metadata": {},
   "outputs": [],
   "source": []
  },
  {
   "cell_type": "code",
   "execution_count": null,
   "metadata": {},
   "outputs": [],
   "source": []
  },
  {
   "cell_type": "code",
   "execution_count": null,
   "metadata": {},
   "outputs": [],
   "source": []
  },
  {
   "cell_type": "code",
   "execution_count": null,
   "metadata": {},
   "outputs": [],
   "source": []
  },
  {
   "cell_type": "code",
   "execution_count": 522,
   "metadata": {},
   "outputs": [],
   "source": [
    "#export_csv = population_stateWise.to_csv(r'population_stateWise.csv', index = None, header=True)"
   ]
  },
  {
   "cell_type": "code",
   "execution_count": null,
   "metadata": {},
   "outputs": [],
   "source": [
    "c.execute('''CREATE TABLE population_stateWise([Scode] INTEGER PRIMARY KEY,[m_count] INTEGER, [f_count] integer)''')\n",
    "c.execute('''CREATE TABLE combine_key_id([id] INTEGER PRIMARY KEY,[Scode] INTEGER, [type] VARCHAR(50),[age_group] VARCHAR(50))''')\n",
    "c.execute('''CREATE TABLE populatoin_grp_by_age([id] INTEGER PRIMARY KEY,[m_count] INTEGER, [f_count] integer)''')\n",
    "c.execute('''CREATE TABLE illiterate_grp_by_age([id] INTEGER PRIMARY KEY,[m_count] INTEGER, [f_count] integer)''')\n",
    "c.execute('''CREATE TABLE literate_grp_by_age([id] INTEGER PRIMARY KEY,[m_count] INTEGER, [f_count] integer)''')\n",
    "c.execute('''CREATE TABLE liter_wot_edu_grp_by_age([id] INTEGER PRIMARY KEY,[m_count] INTEGER, [f_count] integer)''')\n",
    "c.execute('''CREATE TABLE below_prmry_grp_by_age([id] INTEGER PRIMARY KEY,[m_count] INTEGER, [f_count] integer)''')\n",
    "c.execute('''CREATE TABLE primary_grp_by_age([id] INTEGER PRIMARY KEY,[m_count] INTEGER, [f_count] integer)''')\n",
    "c.execute('''CREATE TABLE middle_grp_by_age([id] INTEGER PRIMARY KEY,[m_count] INTEGER, [f_count] integer)''')\n",
    "c.execute('''CREATE TABLE matrx_second_grp_by_age([id] INTEGER PRIMARY KEY,[m_count] INTEGER, [f_count] integer)''')\n",
    "c.execute('''CREATE TABLE high_schl_grp_by_age([id] INTEGER PRIMARY KEY,[m_count] INTEGER, [f_count] integer)''')\n",
    "c.execute('''CREATE TABLE non_tech_diplma_grp_by_age([id] INTEGER PRIMARY KEY,[m_count] INTEGER, [f_count] integer)''')\n",
    "c.execute('''CREATE TABLE tech_diplma_grp_by_age([id] INTEGER PRIMARY KEY,[m_count] INTEGER, [f_count] integer)''')\n",
    "c.execute('''CREATE TABLE graduate_plus_grp_by_age([id] INTEGER PRIMARY KEY,[m_count] INTEGER, [f_count] integer)''')\n",
    "c.execute('''CREATE TABLE unclassified_grp_by_age([id] INTEGER PRIMARY KEY,[m_count] INTEGER, [f_count] integer)''')\n",
    "\n",
    "c.execute('''CREATE TABLE distribution_by_educ_lvl([Scode] INTEGER,[type] varchar(100), [education_level] VARCHAR(100),[male2lang] integer,[female2lang] integer,[male3lang] integer,[female3lang] integer,PRIMARY KEY(Scode,type,education_level))''')\n",
    "c.execute('''CREATE TABLE distribution_by_age_grp([Scode] INTEGER,[type] varchar(100), [age_grp] VARCHAR(50),[male2lang] integer,[female2lang] integer,[male3lang] integer,[female3lang] integer,PRIMARY KEY(Scode,type,age_grp))''')\n",
    "c.execute('''CREATE TABLE state_area([Scode] INTEGER PRIMARY KEY,[areaName] VARCHAR(100))''')\n",
    "\n",
    "c.execute('''CREATE TABLE avg_val_table([age_group] VARCHAR(50) PRIMARY KEY,[avg_value] integer)''')\n"
   ]
  },
  {
   "cell_type": "code",
   "execution_count": 648,
   "metadata": {},
   "outputs": [],
   "source": [
    "import sqlite3\n",
    "\n",
    "conn = sqlite3.connect('TestDB1.db')  # You can create a new database by changing the name within the quotes\n",
    "c = conn.cursor() # The database will be saved in the location where your 'py' file is saved\n",
    "\n",
    "c.execute('''CREATE TABLE state_area([Scode] INTEGER PRIMARY KEY,[areaName] VARCHAR(100))''')\n",
    "c.execute('''CREATE TABLE population_stateWise([Scode] INTEGER PRIMARY KEY,[m_count] INTEGER, [f_count] integer,FOREIGN KEY (Scode) REFERENCES state_area (Scode))''')\n",
    "c.execute('''CREATE TABLE avg_val_table([age_group] VARCHAR(50) PRIMARY KEY,[avg_value] integer)''')\n",
    "c.execute('''CREATE TABLE combine_key_id([id] INTEGER PRIMARY KEY,[Scode] INTEGER, [type] VARCHAR(50),[age_group] VARCHAR(50),FOREIGN KEY (Scode) REFERENCES state_area (Scode))''')\n",
    "c.execute('''CREATE TABLE populatoin_grp_by_age([id] INTEGER PRIMARY KEY,[m_count] INTEGER, [f_count] integer,FOREIGN KEY (id) REFERENCES combine_key_id (id))''')\n",
    "c.execute('''CREATE TABLE illiterate_grp_by_age([id] INTEGER PRIMARY KEY,[m_count] INTEGER, [f_count] integer,FOREIGN KEY (id) REFERENCES combine_key_id (id))''')\n",
    "c.execute('''CREATE TABLE literate_grp_by_age([id] INTEGER PRIMARY KEY,[m_count] INTEGER, [f_count] integer,FOREIGN KEY (id) REFERENCES combine_key_id (id))''')\n",
    "c.execute('''CREATE TABLE liter_wot_edu_grp_by_age([id] INTEGER PRIMARY KEY,[m_count] INTEGER, [f_count] integer,FOREIGN KEY (id) REFERENCES combine_key_id (id))''')\n",
    "c.execute('''CREATE TABLE below_prmry_grp_by_age([id] INTEGER PRIMARY KEY,[m_count] INTEGER, [f_count] integer,FOREIGN KEY (id) REFERENCES combine_key_id (id))''')\n",
    "c.execute('''CREATE TABLE primary_grp_by_age([id] INTEGER PRIMARY KEY,[m_count] INTEGER, [f_count] integer,FOREIGN KEY (id) REFERENCES combine_key_id (id))''')\n",
    "c.execute('''CREATE TABLE middle_grp_by_age([id] INTEGER PRIMARY KEY,[m_count] INTEGER, [f_count] integer,FOREIGN KEY (id) REFERENCES combine_key_id (id))''')\n",
    "c.execute('''CREATE TABLE matrx_second_grp_by_age([id] INTEGER PRIMARY KEY,[m_count] INTEGER, [f_count] integer,FOREIGN KEY (id) REFERENCES combine_key_id (id))''')\n",
    "c.execute('''CREATE TABLE high_schl_grp_by_age([id] INTEGER PRIMARY KEY,[m_count] INTEGER, [f_count] integer,FOREIGN KEY (id) REFERENCES combine_key_id (id))''')\n",
    "c.execute('''CREATE TABLE non_tech_diplma_grp_by_age([id] INTEGER PRIMARY KEY,[m_count] INTEGER, [f_count] integer,FOREIGN KEY (id) REFERENCES combine_key_id (id))''')\n",
    "c.execute('''CREATE TABLE tech_diplma_grp_by_age([id] INTEGER PRIMARY KEY,[m_count] INTEGER, [f_count] integer,FOREIGN KEY (id) REFERENCES combine_key_id (id))''')\n",
    "c.execute('''CREATE TABLE graduate_plus_grp_by_age([id] INTEGER PRIMARY KEY,[m_count] INTEGER, [f_count] integer,FOREIGN KEY (id) REFERENCES combine_key_id (id))''')\n",
    "c.execute('''CREATE TABLE unclassified_grp_by_age([id] INTEGER PRIMARY KEY,[m_count] INTEGER, [f_count] integer,FOREIGN KEY (id) REFERENCES combine_key_id (id))''')\n",
    "\n",
    "c.execute('''CREATE TABLE distribution_by_educ_lvl([Scode] INTEGER,[type] varchar(100), [education_level] VARCHAR(100),[male2lang] integer,[female2lang] integer,[male3lang] integer,[female3lang] integer,PRIMARY KEY(Scode,type,education_level),FOREIGN KEY (Scode) REFERENCES state_area(Scode))''')\n",
    "\n",
    "c.execute('''CREATE TABLE distribution_by_age_grp([Scode] INTEGER,[type] varchar(100), [age_grp] VARCHAR(50),[male2lang] integer,[female2lang] integer,[male3lang] integer,[female3lang] integer,PRIMARY KEY(Scode,type,age_grp),FOREIGN KEY (Scode) REFERENCES state_area (Scode))''')\n",
    "\n",
    "conn.commit()"
   ]
  },
  {
   "cell_type": "code",
   "execution_count": 524,
   "metadata": {},
   "outputs": [],
   "source": [
    "#conn = sqlite3.connect('TestDB1.db')  \n",
    "#c = conn.cursor()\n",
    "\n",
    "#population_stateWise.to_sql('population_stateWise', conn, if_exists='append', index = False)\n",
    "\n",
    "#conn.commit()"
   ]
  },
  {
   "cell_type": "code",
   "execution_count": 596,
   "metadata": {},
   "outputs": [],
   "source": [
    "conn = sqlite3.connect('TestDB8.db')  \n",
    "c = conn.cursor()\n",
    "population_stateWise.to_sql('population_stateWise', conn, if_exists='append', index = False)\n",
    "combine_key_id.to_sql('combine_key_id', conn, if_exists='append', index = False)\n",
    "populatoin_grp_by_age.to_sql('populatoin_grp_by_age', conn, if_exists='append', index = False)\n",
    "illiterate_grp_by_age.to_sql('illiterate_grp_by_age', conn, if_exists='append', index = False)\n",
    "literate_grp_by_age.to_sql('literate_grp_by_age', conn, if_exists='append', index = False)\n",
    "liter_wot_edu_grp_by_age.to_sql('liter_wot_edu_grp_by_age', conn, if_exists='append', index = False)\n",
    "below_prmry_grp_by_age.to_sql('below_prmry_grp_by_age', conn, if_exists='append', index = False)\n",
    "primary_grp_by_age.to_sql('primary_grp_by_age', conn, if_exists='append', index = False)\n",
    "middle_grp_by_age.to_sql('middle_grp_by_age', conn, if_exists='append', index = False)\n",
    "matrx_second_grp_by_age.to_sql('matrx_second_grp_by_age', conn, if_exists='append', index = False)\n",
    "high_schl_grp_by_age.to_sql('high_schl_grp_by_age', conn, if_exists='append', index = False)\n",
    "non_tech_diplma_grp_by_age.to_sql('non_tech_diplma_grp_by_age', conn, if_exists='append', index = False)\n",
    "tech_diplma_grp_by_age.to_sql('tech_diplma_grp_by_age', conn, if_exists='append', index = False)\n",
    "graduate_plus_grp_by_age.to_sql('graduate_plus_grp_by_age', conn, if_exists='append', index = False)\n",
    "unclassified_grp_by_age.to_sql('unclassified_grp_by_age', conn, if_exists='append', index = False)\n",
    "distribution_by_educ_lvl.to_sql('distribution_by_educ_lvl', conn, if_exists='append', index = False)\n",
    "distribution_by_age_grp.to_sql('distribution_by_age_grp', conn, if_exists='append', index = False)\n",
    "state_area.to_sql('state_area', conn, if_exists='append', index = False)\n",
    "\n",
    "avg_val_table.to_sql('avg_val_table', conn, if_exists='append', index = False)\n",
    "conn.commit()"
   ]
  },
  {
   "cell_type": "code",
   "execution_count": null,
   "metadata": {},
   "outputs": [],
   "source": []
  },
  {
   "cell_type": "code",
   "execution_count": 656,
   "metadata": {},
   "outputs": [],
   "source": [
    "#query1\n",
    "conn = sqlite3.connect('TestDB8.db')  \n",
    "c = conn.cursor()\n",
    "\n",
    "c.execute(''' with temp1(Scode,count3) as\n",
    "(select Scode, sum(male3lang+female3lang) from distribution_by_educ_lvl where Scode != 0 group by Scode),\n",
    "temp2(Scode,countAll) as \n",
    "(select Scode, m_count + f_count from population_stateWise)\n",
    "select sa.areaName as State, (t1.count3*1.0/t2.countAll)*100 as percent from temp1 as t1, temp2 as t2,state_area as sa \n",
    "where t1.Scode=t2.Scode and t1.Scode= sa.Scode order by percent''')\n",
    "\n",
    "#print(c.fetchall())\n",
    "conn.commit()"
   ]
  },
  {
   "cell_type": "code",
   "execution_count": 657,
   "metadata": {},
   "outputs": [
    {
     "name": "stdout",
     "output_type": "stream",
     "text": [
      "[('30-49',)]\n"
     ]
    }
   ],
   "source": [
    "#query2\n",
    "conn = sqlite3.connect('TestDB8.db')  \n",
    "c = conn.cursor()\n",
    "\n",
    "c.execute(''' with temp(age_grp,count) as \n",
    "(select age_grp, sum(male2lang+female2lang) from distribution_by_age_grp where Scode != 0 group by age_grp)\n",
    "select age_grp from temp where count = (select max(count) from temp)''')\n",
    "print(c.fetchall())\n",
    "#conn.commit()"
   ]
  },
  {
   "cell_type": "code",
   "execution_count": 665,
   "metadata": {},
   "outputs": [],
   "source": [
    "#query3\n",
    "conn = sqlite3.connect('TestDB8.db')  \n",
    "c = conn.cursor()\n",
    "\n",
    "c.execute('''with temp0(Scode,age_grp,sum_v) as \n",
    "(select Scode,age_group,m_count+f_count from combine_key_id as cki, populatoin_grp_by_age as pop\n",
    "where cki.id=pop.id and Scode != 0)\n",
    "select * from temp0''')\n",
    "#print(c.fetchall())\n",
    "conn.commit()"
   ]
  },
  {
   "cell_type": "code",
   "execution_count": null,
   "metadata": {},
   "outputs": [],
   "source": []
  },
  {
   "cell_type": "code",
   "execution_count": 660,
   "metadata": {},
   "outputs": [
    {
     "name": "stdout",
     "output_type": "stream",
     "text": [
      "[(895866207,)]\n"
     ]
    }
   ],
   "source": [
    "#query 4\n",
    "conn = sqlite3.connect('TestDB8.db')  \n",
    "c = conn.cursor()\n",
    "\n",
    "c.execute(''' with count2(value2) as \n",
    "(select sum(male2lang+female2lang) from distribution_by_age_grp where Scode = 0),\n",
    "count1(value1) as (select sum(m_count+f_count) from population_stateWise)\n",
    "select value1-value2 from count2,count1;''')\n",
    "print(c.fetchall())\n",
    "conn.commit()"
   ]
  },
  {
   "cell_type": "code",
   "execution_count": null,
   "metadata": {},
   "outputs": [],
   "source": []
  },
  {
   "cell_type": "code",
   "execution_count": 661,
   "metadata": {},
   "outputs": [
    {
     "name": "stdout",
     "output_type": "stream",
     "text": [
      "[('KERALA', 33.185498586746355)]\n"
     ]
    }
   ],
   "source": [
    "#query 5\n",
    "conn = sqlite3.connect('TestDB8.db')  \n",
    "c = conn.cursor()\n",
    "\n",
    "c.execute(''' with temp1(Scode,age_grp,sum_pop) as\n",
    "(select cki.Scode, cki.age_group,sum(pop.m_count+pop.f_count) from combine_key_id as cki, populatoin_grp_by_age as pop\n",
    "where cki.id=pop.id and Scode != 0 group by Scode,age_group),\n",
    "temp2(Scode,count) as \n",
    "(select Scode,sum(m_count+f_count) from populatoin_grp_by_age as pop1,combine_key_id as cki1 \n",
    "where cki1.id=pop1.id and cki1.age_group != \"Age not stated\" and cki1.Scode != 0 group by cki1.Scode),\n",
    "temp3(Scode,new_sum) as \n",
    "(select Scode, sum(sum_pop*avg_value) from temp1 as t1, avg_val_table as t2 \n",
    "where t1.age_grp = t2.age_group group by Scode),\n",
    "temp4(Sname,value) as \n",
    "(select s1.areaName,x1.new_sum*1.0/x2.count from state_area as s1,temp3 as x1, temp2 as x2 \n",
    "where x1.Scode = x2.Scode and x1.Scode = s1.Scode)\n",
    "select Sname, value from temp4 where value = (select max(value) from temp4)''')\n",
    "print(c.fetchall())\n",
    "conn.commit()"
   ]
  },
  {
   "cell_type": "code",
   "execution_count": 638,
   "metadata": {},
   "outputs": [],
   "source": [
    "conn = sqlite3.connect('TestDB8.db')  \n",
    "c = conn.cursor()\n",
    "\n",
    "c.execute('''with temp0(Scode,age_grp,sum_v) as \n",
    "(select Scode,age_group,m_count+f_count from combine_key_id as cki, populatoin_grp_by_age as pop\n",
    "where cki.id=pop.id and Scode != 0)\n",
    "select * from temp0''')\n",
    "#print(c.fetchall())\n",
    "conn.commit()"
   ]
  },
  {
   "cell_type": "code",
   "execution_count": 669,
   "metadata": {},
   "outputs": [
    {
     "name": "stdout",
     "output_type": "stream",
     "text": [
      "[('0-6', 164515253), ('10', 30552107), ('11', 24740946), ('12', 27877307), ('13', 24280683), ('14', 25258169), ('15', 25899454), ('16', 24592293), ('17', 21217467), ('18', 27958147), ('19', 20859088), ('20-24', 111424222), ('25-29', 101413965), ('30-34', 88594951), ('35-39', 85140684), ('40-44', 72438112), ('45-49', 62318327), ('50-54', 49069254), ('55-59', 39146055), ('60-64', 37663707), ('65-69', 26454983), ('7', 24826640), ('70-74', 19208842), ('75-79', 9232503), ('8', 26968373), ('80+', 11289005), ('9', 23424638), ('Age not stated', 4489802)]\n"
     ]
    }
   ],
   "source": [
    "conn = sqlite3.connect('TestDB8.db')  \n",
    "c = conn.cursor()\n",
    "\n",
    "c.execute(''' with temp1(age_grp,subtract) as \n",
    "(select age_group,sum(m_count+f_count) from populatoin_grp_by_age as pop, combine_key_id as cki\n",
    " where cki.id = pop.id and Scode = 0 group by cki.age_group),\n",
    " temp2(age_grp,pos_sub) as \n",
    " (select age_grp , CASE WHEN subtract<0 then subtract*(-1) ELSE subtract END as subtract from temp1),\n",
    " temp3(max_value) as (select max(pos_sub) from temp2)\n",
    " select age_grp,pos_sub from temp2 ''')\n",
    "print(c.fetchall())\n",
    "conn.commit()"
   ]
  },
  {
   "cell_type": "code",
   "execution_count": 695,
   "metadata": {},
   "outputs": [
    {
     "name": "stdout",
     "output_type": "stream",
     "text": [
      "[('18', 1.161050268927912), ('80+', 1.1365739316898495)]\n"
     ]
    }
   ],
   "source": [
    "conn = sqlite3.connect('TestDB8.db')  \n",
    "c = conn.cursor()\n",
    "\n",
    "c.execute('''with temp0(age_grp,male,female) as \n",
    "(select age_group,sum(m_count),sum(f_count) from populatoin_grp_by_age as pop, combine_key_id as cki\n",
    " where cki.id = pop.id and Scode = 0 group by cki.age_group), \n",
    " m_by_f(age_grp,value1) as (select age_grp, max(male*1.0/female) from temp0),\n",
    " f_by_m(age_grp,value2) as (select age_grp,max(female*1.0/male) from temp0)\n",
    " select * from m_by_f \n",
    " UNION ALL \n",
    " select * from f_by_m ''')\n",
    "print(c.fetchall())\n",
    "conn.commit()"
   ]
  },
  {
   "cell_type": "code",
   "execution_count": null,
   "metadata": {},
   "outputs": [],
   "source": [
    " temp1(age_grp,m_by_f) as \n",
    "(select age_grp,male*1.0/female from temp0),\n",
    " temp2(age_grp,f_by_m) as \n",
    "(select age_grp,female*1.0/male from temp0),\n",
    " select age_grp,male,female from temp0 ''')"
   ]
  },
  {
   "cell_type": "code",
   "execution_count": 369,
   "metadata": {},
   "outputs": [],
   "source": [
    "#query 1 "
   ]
  },
  {
   "cell_type": "code",
   "execution_count": null,
   "metadata": {},
   "outputs": [],
   "source": [
    "with temp1(Scode,count3) as\n",
    "(select Scode, sum(m_count+f_count) from distribution_by_educ_lvl where Scode != 0 group by Scode),\n",
    "temp2(Scode,countAll) as \n",
    "(select Scode, m_count+f_count from population_stateWise)\n",
    "select Scode , percent from (select t1.Scode, (t1.count3/t2.countAll)*100 from temp1 as t1, temp2 as t2 where t1.Scode=t2.Scode)\n",
    "as temp(Scode,percent);"
   ]
  },
  {
   "cell_type": "code",
   "execution_count": 370,
   "metadata": {},
   "outputs": [],
   "source": [
    "#query 2"
   ]
  },
  {
   "cell_type": "code",
   "execution_count": null,
   "metadata": {},
   "outputs": [],
   "source": [
    "with temp(agr_grp,count) as \n",
    "(select agr_grp, sum(m_count+f_count) from distribution_by_age_grp where Scode != 0 group by agr_grp)\n",
    "select agr_grp from temp where count = (select max(count) from temp);\n"
   ]
  },
  {
   "cell_type": "code",
   "execution_count": 371,
   "metadata": {},
   "outputs": [],
   "source": [
    "#query 3 "
   ]
  },
  {
   "cell_type": "code",
   "execution_count": null,
   "metadata": {},
   "outputs": [],
   "source": []
  },
  {
   "cell_type": "code",
   "execution_count": 377,
   "metadata": {},
   "outputs": [],
   "source": [
    "#query 4"
   ]
  },
  {
   "cell_type": "code",
   "execution_count": null,
   "metadata": {},
   "outputs": [],
   "source": [
    "with count2(value2) as (select sum(male2lang+female2lang) from distribution_by_age_grp where Scode = 0),\n",
    "count1(value1) as (select sum(m_count+f_count) from population_stateWise)\n",
    "select value1-value2 from count2,count1;"
   ]
  },
  {
   "cell_type": "code",
   "execution_count": null,
   "metadata": {},
   "outputs": [],
   "source": [
    "#query 5"
   ]
  },
  {
   "cell_type": "code",
   "execution_count": null,
   "metadata": {},
   "outputs": [],
   "source": [
    "with temp1(Scode,age_grp,sum_pop) as\n",
    "(select cki.Scode, cki.age_grp,sum(pop.m_count+pop.f_count) from combine_key_id as cki, populatoin_grp_by_age as pop\n",
    " where cki.id=pop.id and scode != 0 group by (Scode,age_grp)),\n",
    "temp2(Scode,count) as \n",
    "(select Scode,sum(m_count+f_count) from populatoin_grp_by_age as pop1,combine_key_id as cki1 where cki1.id=pop1.id\n",
    " and cki1.age_group != \"Age not stated\" and cki1.Scode != 0 group by cki1.Scode)\n",
    "temp3(Scode,new_sum) as \n",
    "(select Scode, sum(sum_pop*avg_value) from temp1 as t1, avg_val_table as t2 where t1.age_grp = t2.age_grp group by Scode)\n",
    "temp4(Sname,value) as \n",
    "(select s1.Sname,x1.new_sum/x2.count from state_area as s1,temp3 as x1, temp2 as x2 where x1.Scode = x2.Scode and \n",
    " x1.Scode = s1.Scode)\n",
    "select Sname, value from temp4 where value = (select max(value) from temp4));"
   ]
  },
  {
   "cell_type": "code",
   "execution_count": null,
   "metadata": {},
   "outputs": [],
   "source": []
  },
  {
   "cell_type": "code",
   "execution_count": null,
   "metadata": {},
   "outputs": [],
   "source": []
  }
 ],
 "metadata": {
  "kernelspec": {
   "display_name": "Python 3",
   "language": "python",
   "name": "python3"
  },
  "language_info": {
   "codemirror_mode": {
    "name": "ipython",
    "version": 3
   },
   "file_extension": ".py",
   "mimetype": "text/x-python",
   "name": "python",
   "nbconvert_exporter": "python",
   "pygments_lexer": "ipython3",
   "version": "3.6.8"
  }
 },
 "nbformat": 4,
 "nbformat_minor": 2
}
